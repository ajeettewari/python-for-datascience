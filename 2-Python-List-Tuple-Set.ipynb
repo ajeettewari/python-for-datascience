{
 "cells": [
  {
   "cell_type": "markdown",
   "metadata": {},
   "source": [
    "# File Handling"
   ]
  },
  {
   "cell_type": "code",
   "execution_count": null,
   "metadata": {
    "colab": {
     "base_uri": "https://localhost:8080/",
     "height": 55
    },
    "colab_type": "code",
    "id": "cV15cQDxqYdQ",
    "outputId": "d153c67c-66fd-417c-e4c5-4074581c32dc"
   },
   "outputs": [],
   "source": [
    "f = open(\"sample-input-file\", \"r\")\n",
    "out_lines = f.readlines()\n",
    "print(out_lines)\n",
    "f.close()"
   ]
  },
  {
   "cell_type": "markdown",
   "metadata": {
    "colab_type": "text",
    "id": "YPodBtxNI2uS"
   },
   "source": [
    "# Documentation and Error Handling"
   ]
  },
  {
   "cell_type": "markdown",
   "metadata": {
    "colab_type": "text",
    "id": "uBR5U473CLPr"
   },
   "source": [
    "**Note to self about Fibonacci sequence**\n",
    "\n",
    "Start from *two* numbers $(f_0, f_1)$ and compute the $n$th value as \n",
    "$f_{n} \\leftarrow f_{n - 1} + f_{n - 2}$.\n",
    "\n",
    "It turns out that the ratio of consecutive numbers in the Fibonacci sequence approximates to the Golden ratio $\\phi$: \n",
    "$$ \\phi \\approx \\dfrac{f_n}{f_{n - 1}} $$"
   ]
  },
  {
   "cell_type": "markdown",
   "metadata": {},
   "source": [
    "# Functions"
   ]
  },
  {
   "cell_type": "code",
   "execution_count": null,
   "metadata": {
    "colab": {},
    "colab_type": "code",
    "id": "fqC4mlzIBy36"
   },
   "outputs": [],
   "source": [
    "def fibonacci_sequence(n, a = 1, b = 1):\n",
    "    for i in range(n):\n",
    "        temp = a + b\n",
    "        a = b\n",
    "        b = temp\n",
    "    return temp"
   ]
  },
  {
   "cell_type": "code",
   "execution_count": null,
   "metadata": {
    "colab": {},
    "colab_type": "code",
    "id": "ILkL0PSiCRwE"
   },
   "outputs": [],
   "source": [
    "def input_single_float(prompt):\n",
    "    user_input = input(prompt)\n",
    "    output = float(user_input)\n",
    "    return output"
   ]
  },
  {
   "cell_type": "code",
   "execution_count": null,
   "metadata": {
    "colab": {},
    "colab_type": "code",
    "id": "9ft-ChR7Cba_"
   },
   "outputs": [],
   "source": [
    "def fibonacci_sequence(n, a =10, b = 1):\n",
    "    \"\"\"\n",
    "    This computes the nth number in the Fibonacci sequence\n",
    "    starting with a and b as the first two values.\n",
    "    \"\"\"\n",
    "    for i in range(n):\n",
    "        temp = a + b\n",
    "        a = b\n",
    "        b = temp\n",
    "    return temp"
   ]
  },
  {
   "cell_type": "code",
   "execution_count": null,
   "metadata": {
    "colab": {},
    "colab_type": "code",
    "id": "5tDaKoqmOQaM"
   },
   "outputs": [],
   "source": [
    "fibonacci_sequence?"
   ]
  },
  {
   "cell_type": "markdown",
   "metadata": {},
   "source": [
    "# Input"
   ]
  },
  {
   "cell_type": "code",
   "execution_count": null,
   "metadata": {
    "colab": {},
    "colab_type": "code",
    "id": "kIjkQ0_0OVRg"
   },
   "outputs": [],
   "source": [
    "def input_single_float(prompt):\n",
    "    \"\"\"\n",
    "    This prompts user to input, and then converts this to a single float\n",
    "    \"\"\"\n",
    "    user_input = input(prompt)\n",
    "    output = float(user_input)\n",
    "    return output"
   ]
  },
  {
   "cell_type": "code",
   "execution_count": null,
   "metadata": {
    "colab": {
     "base_uri": "https://localhost:8080/",
     "height": 320
    },
    "colab_type": "code",
    "id": "VqIcwOflPMdi",
    "outputId": "d1fefeab-263d-40bc-8ffb-85f77a1fc7de"
   },
   "outputs": [],
   "source": [
    "val = input_single_float('Enter PI ')"
   ]
  },
  {
   "cell_type": "code",
   "execution_count": null,
   "metadata": {
    "colab": {},
    "colab_type": "code",
    "id": "OdONGuQLPTIW"
   },
   "outputs": [],
   "source": [
    "def input_single_float(prompt):\n",
    "    \"\"\"\n",
    "    This prompts user to input, and then converts this to a single float\n",
    "    \"\"\"\n",
    "    user_input = input(prompt)\n",
    "    try: \n",
    "        output = float(user_input)\n",
    "    except ValueError:\n",
    "        print(\"Input value must be a float\")\n",
    "        output = None\n",
    "    return output"
   ]
  },
  {
   "cell_type": "code",
   "execution_count": null,
   "metadata": {
    "colab": {
     "base_uri": "https://localhost:8080/",
     "height": 54
    },
    "colab_type": "code",
    "id": "UrJOrnHWP41g",
    "outputId": "e557d14c-7f57-4e31-cbf4-c9a5d56f2eff"
   },
   "outputs": [],
   "source": [
    "val = input_single_float('Enter PI ')"
   ]
  },
  {
   "cell_type": "code",
   "execution_count": null,
   "metadata": {
    "colab": {
     "base_uri": "https://localhost:8080/",
     "height": 35
    },
    "colab_type": "code",
    "id": "b5ERjMRdP66b",
    "outputId": "0291f7b8-7a80-4376-f442-a4749638008c"
   },
   "outputs": [],
   "source": [
    "print(val, type(val))"
   ]
  },
  {
   "cell_type": "code",
   "execution_count": null,
   "metadata": {
    "colab": {},
    "colab_type": "code",
    "id": "gvQoH-PdQPOt"
   },
   "outputs": [],
   "source": [
    "def input_single_float_inverse(prompt):\n",
    "    \"\"\"\n",
    "    This prompts user to input, and then converts this to a single float inverse\n",
    "    \"\"\"\n",
    "    user_input = input(prompt)\n",
    "    output = None\n",
    "    try: \n",
    "        output = 1/float(user_input)\n",
    "    except ValueError:\n",
    "        print(\"Input value must be a float\")\n",
    "    except ZeroDivisionError:\n",
    "        print(\"Input value must not be zero\")\n",
    "    return output"
   ]
  },
  {
   "cell_type": "code",
   "execution_count": null,
   "metadata": {
    "colab": {
     "base_uri": "https://localhost:8080/",
     "height": 72
    },
    "colab_type": "code",
    "id": "UHcwRqSyQfxj",
    "outputId": "d26b689d-af20-441d-926e-5c7173710ce0"
   },
   "outputs": [],
   "source": [
    "val = input_single_float_inverse('Enter number ')\n",
    "print(val)"
   ]
  },
  {
   "cell_type": "markdown",
   "metadata": {
    "colab_type": "text",
    "id": "6Ut0mP550rvh"
   },
   "source": [
    "# Lists"
   ]
  },
  {
   "cell_type": "code",
   "execution_count": null,
   "metadata": {
    "colab": {},
    "colab_type": "code",
    "id": "2sCpl7IG0MCS"
   },
   "outputs": [],
   "source": [
    "course_name = \"Foundations of Data Science\""
   ]
  },
  {
   "cell_type": "code",
   "execution_count": null,
   "metadata": {
    "colab": {},
    "colab_type": "code",
    "id": "t22wYIzW0vvY"
   },
   "outputs": [],
   "source": [
    "words = course_name.split()"
   ]
  },
  {
   "cell_type": "code",
   "execution_count": null,
   "metadata": {
    "colab": {
     "base_uri": "https://localhost:8080/",
     "height": 35
    },
    "colab_type": "code",
    "id": "ooADbjda0yjN",
    "outputId": "889f5cf4-88d5-49de-a061-ac54db1b2151"
   },
   "outputs": [],
   "source": [
    "print(words)"
   ]
  },
  {
   "cell_type": "code",
   "execution_count": null,
   "metadata": {
    "colab": {},
    "colab_type": "code",
    "id": "_EpvJuLJ0znb"
   },
   "outputs": [],
   "source": [
    "str.split?"
   ]
  },
  {
   "cell_type": "code",
   "execution_count": null,
   "metadata": {
    "colab": {
     "base_uri": "https://localhost:8080/",
     "height": 35
    },
    "colab_type": "code",
    "id": "sumvsLzf08H6",
    "outputId": "4f1abe91-c5f2-4ef0-e47b-36cd0dd2664a"
   },
   "outputs": [],
   "source": [
    "print(type(words))"
   ]
  },
  {
   "cell_type": "code",
   "execution_count": null,
   "metadata": {
    "colab": {
     "base_uri": "https://localhost:8080/",
     "height": 35
    },
    "colab_type": "code",
    "id": "T0DrQ1rH1Fyq",
    "outputId": "ab6c5898-6714-4f72-cd05-e285402a0049"
   },
   "outputs": [],
   "source": [
    "print(words[2])"
   ]
  },
  {
   "cell_type": "code",
   "execution_count": null,
   "metadata": {
    "colab": {
     "base_uri": "https://localhost:8080/",
     "height": 35
    },
    "colab_type": "code",
    "id": "tqYdpiaK1MEF",
    "outputId": "b21de28f-da83-4def-a5db-d463676e08f6"
   },
   "outputs": [],
   "source": [
    "print(type(words[-2]))"
   ]
  },
  {
   "cell_type": "code",
   "execution_count": null,
   "metadata": {
    "colab": {
     "base_uri": "https://localhost:8080/",
     "height": 35
    },
    "colab_type": "code",
    "id": "T4Tmfhax1Ywi",
    "outputId": "5709df7e-6b68-4934-acf7-5ce108ed5313"
   },
   "outputs": [],
   "source": [
    "print(words[-2].lower())"
   ]
  },
  {
   "cell_type": "code",
   "execution_count": null,
   "metadata": {
    "colab": {
     "base_uri": "https://localhost:8080/",
     "height": 35
    },
    "colab_type": "code",
    "id": "x6hTL0KR1fMc",
    "outputId": "efb5df2a-1178-4d02-9f61-0290ddcde832"
   },
   "outputs": [],
   "source": [
    "print(words[0:2])"
   ]
  },
  {
   "cell_type": "code",
   "execution_count": null,
   "metadata": {
    "colab": {
     "base_uri": "https://localhost:8080/",
     "height": 35
    },
    "colab_type": "code",
    "id": "ObnsuU-I1qN8",
    "outputId": "b16b8a94-67c9-4af1-bf62-e041e4579d7a"
   },
   "outputs": [],
   "source": [
    "print(words[:2])"
   ]
  },
  {
   "cell_type": "code",
   "execution_count": null,
   "metadata": {
    "colab": {
     "base_uri": "https://localhost:8080/",
     "height": 35
    },
    "colab_type": "code",
    "id": "TwYJRQ2K10SO",
    "outputId": "6e0a854c-b2be-47b4-b38f-0bec9345111c"
   },
   "outputs": [],
   "source": [
    "print(type(words[1:]))"
   ]
  },
  {
   "cell_type": "code",
   "execution_count": null,
   "metadata": {
    "colab": {},
    "colab_type": "code",
    "id": "wkKVVYK2130R"
   },
   "outputs": [],
   "source": [
    "new_words = [\"Machine\", \"Learning\"]"
   ]
  },
  {
   "cell_type": "code",
   "execution_count": null,
   "metadata": {
    "colab": {
     "base_uri": "https://localhost:8080/",
     "height": 35
    },
    "colab_type": "code",
    "id": "A6dHEz1v2BwZ",
    "outputId": "bb5df681-4045-41bd-aadd-456e5934eb30"
   },
   "outputs": [],
   "source": [
    "print(type(new_words))"
   ]
  },
  {
   "cell_type": "code",
   "execution_count": null,
   "metadata": {
    "colab": {
     "base_uri": "https://localhost:8080/",
     "height": 35
    },
    "colab_type": "code",
    "id": "U6W2YM7O2DDd",
    "outputId": "f9a0bbe7-e3e0-4578-8f4d-1bc7c5aed2b2"
   },
   "outputs": [],
   "source": [
    "print(new_words[0])"
   ]
  },
  {
   "cell_type": "code",
   "execution_count": null,
   "metadata": {
    "colab": {},
    "colab_type": "code",
    "id": "CLPct_dn2FjV"
   },
   "outputs": [],
   "source": [
    "fibonacci_list = [1, 1, 2, 3, 5, 8, 13, 21]"
   ]
  },
  {
   "cell_type": "code",
   "execution_count": null,
   "metadata": {
    "colab": {
     "base_uri": "https://localhost:8080/",
     "height": 35
    },
    "colab_type": "code",
    "id": "EINXgpEX2K2l",
    "outputId": "5f9a206e-0ffb-430d-e284-b7f3aaface4f"
   },
   "outputs": [],
   "source": [
    "print(type(fibonacci_list[0]))"
   ]
  },
  {
   "cell_type": "code",
   "execution_count": null,
   "metadata": {
    "colab": {
     "base_uri": "https://localhost:8080/",
     "height": 35
    },
    "colab_type": "code",
    "id": "FureZr8r2MQR",
    "outputId": "b142a938-e51b-43f0-8111-aeb707eeedd7"
   },
   "outputs": [],
   "source": [
    "print(fibonacci_list[0] + 10)"
   ]
  },
  {
   "cell_type": "code",
   "execution_count": null,
   "metadata": {
    "colab": {
     "base_uri": "https://localhost:8080/",
     "height": 164
    },
    "colab_type": "code",
    "id": "wHCWmqiU2RYh",
    "outputId": "93687a1f-096f-4731-edee-b79637c61d6e"
   },
   "outputs": [],
   "source": [
    "for num in fibonacci_list:\n",
    "    print(num + 10)"
   ]
  },
  {
   "cell_type": "code",
   "execution_count": null,
   "metadata": {
    "colab": {
     "base_uri": "https://localhost:8080/",
     "height": 35
    },
    "colab_type": "code",
    "id": "OmGFOHv52c-Q",
    "outputId": "de434a8e-deea-4c3a-920e-4d6d7fc0a061"
   },
   "outputs": [],
   "source": [
    "length = len(fibonacci_list)\n",
    "print(length)"
   ]
  },
  {
   "cell_type": "code",
   "execution_count": null,
   "metadata": {
    "colab": {
     "base_uri": "https://localhost:8080/",
     "height": 164
    },
    "colab_type": "code",
    "id": "R7wnHSMH2sPE",
    "outputId": "f6747209-0b5c-4361-b7cc-e25f414aca6e"
   },
   "outputs": [],
   "source": [
    "for i in range(length):\n",
    "    print(i, fibonacci_list[i])"
   ]
  },
  {
   "cell_type": "code",
   "execution_count": null,
   "metadata": {
    "colab": {},
    "colab_type": "code",
    "id": "MjWqDjLF2xk_"
   },
   "outputs": [],
   "source": [
    "bmi_record = [\"A\", 75, 1.73, False]"
   ]
  },
  {
   "cell_type": "code",
   "execution_count": null,
   "metadata": {
    "colab": {
     "base_uri": "https://localhost:8080/",
     "height": 35
    },
    "colab_type": "code",
    "id": "nNLZS8m43HjW",
    "outputId": "10d07662-cd4c-424c-82b8-00df0d8075b1"
   },
   "outputs": [],
   "source": [
    "print(type(bmi_record))"
   ]
  },
  {
   "cell_type": "code",
   "execution_count": null,
   "metadata": {
    "colab": {
     "base_uri": "https://localhost:8080/",
     "height": 91
    },
    "colab_type": "code",
    "id": "xgTlXkEf3JUL",
    "outputId": "2d395d6c-66b7-4cb6-ce73-c156688101d3"
   },
   "outputs": [],
   "source": [
    "for item in bmi_record:\n",
    "    print(item, type(item))"
   ]
  },
  {
   "cell_type": "code",
   "execution_count": null,
   "metadata": {
    "colab": {},
    "colab_type": "code",
    "id": "5zQYms0i3OWy"
   },
   "outputs": [],
   "source": [
    "bmi_record[0] = \"A\""
   ]
  },
  {
   "cell_type": "code",
   "execution_count": null,
   "metadata": {
    "colab": {},
    "colab_type": "code",
    "id": "TUwm9fjg3Whh"
   },
   "outputs": [],
   "source": [
    "bmi_record.append(\"A@email.com\")"
   ]
  },
  {
   "cell_type": "code",
   "execution_count": null,
   "metadata": {
    "colab": {
     "base_uri": "https://localhost:8080/",
     "height": 109
    },
    "colab_type": "code",
    "id": "8ZmQL12t3fiK",
    "outputId": "4f4b2d13-e979-496b-d58d-64a562e68d7a"
   },
   "outputs": [],
   "source": [
    "for item in bmi_record:\n",
    "    print(item, type(item))"
   ]
  },
  {
   "cell_type": "markdown",
   "metadata": {
    "colab_type": "text",
    "id": "-ziDAeaFJQRR"
   },
   "source": [
    "# Lists - continued"
   ]
  },
  {
   "cell_type": "code",
   "execution_count": null,
   "metadata": {
    "colab": {},
    "colab_type": "code",
    "id": "EQkc3mMy3hD-"
   },
   "outputs": [],
   "source": [
    "bmi_dataset = [\n",
    "               [\"K\", 75, 1.73, False],\n",
    "               [\"B\", 120, 1.78, True]\n",
    "]"
   ]
  },
  {
   "cell_type": "code",
   "execution_count": null,
   "metadata": {
    "colab": {
     "base_uri": "https://localhost:8080/",
     "height": 35
    },
    "colab_type": "code",
    "id": "xEvdr535Jg3d",
    "outputId": "53b90a0d-d1fa-46d4-ac0b-5214eb01ab14"
   },
   "outputs": [],
   "source": [
    "print(type(bmi_dataset[1]))"
   ]
  },
  {
   "cell_type": "code",
   "execution_count": null,
   "metadata": {
    "colab": {
     "base_uri": "https://localhost:8080/",
     "height": 35
    },
    "colab_type": "code",
    "id": "r3NEcEflJjuA",
    "outputId": "5fdbff4f-c23f-4dd6-a16a-f27815a05d27"
   },
   "outputs": [],
   "source": [
    "print(bmi_dataset[0])"
   ]
  },
  {
   "cell_type": "code",
   "execution_count": null,
   "metadata": {
    "colab": {
     "base_uri": "https://localhost:8080/",
     "height": 35
    },
    "colab_type": "code",
    "id": "GSkr_XjBJtrP",
    "outputId": "027eed67-8adc-4b80-a1d8-efeaee4c9153"
   },
   "outputs": [],
   "source": [
    "print(type(bmi_dataset[0][0]))"
   ]
  },
  {
   "cell_type": "code",
   "execution_count": null,
   "metadata": {
    "colab": {
     "base_uri": "https://localhost:8080/",
     "height": 35
    },
    "colab_type": "code",
    "id": "yREJjR6WJ2r3",
    "outputId": "12a24979-6201-4fc0-9065-96e93e640dee"
   },
   "outputs": [],
   "source": [
    "print(bmi_dataset[1][2])"
   ]
  },
  {
   "cell_type": "code",
   "execution_count": null,
   "metadata": {
    "colab": {},
    "colab_type": "code",
    "id": "4Vokqa0FJ89l"
   },
   "outputs": [],
   "source": [
    "bmi_dataset[1].append(\"b@foodtruck.com\")"
   ]
  },
  {
   "cell_type": "code",
   "execution_count": null,
   "metadata": {
    "colab": {
     "base_uri": "https://localhost:8080/",
     "height": 55
    },
    "colab_type": "code",
    "id": "Rzgndf4aKO8p",
    "outputId": "9cead59b-867d-44f9-de5d-8d989b295cb4"
   },
   "outputs": [],
   "source": [
    "print(bmi_dataset)"
   ]
  },
  {
   "cell_type": "code",
   "execution_count": null,
   "metadata": {
    "colab": {},
    "colab_type": "code",
    "id": "Lkz3Es5QKQf3"
   },
   "outputs": [],
   "source": [
    "bmi_dataset[1][1] = 125"
   ]
  },
  {
   "cell_type": "code",
   "execution_count": null,
   "metadata": {
    "colab": {},
    "colab_type": "code",
    "id": "aBBMxzV7KZ_1"
   },
   "outputs": [],
   "source": [
    "identity_3 = [\n",
    "              [1, 0, 0],\n",
    "              [0, 1, 0],\n",
    "              [0, 0, 1]\n",
    "]"
   ]
  },
  {
   "cell_type": "code",
   "execution_count": null,
   "metadata": {
    "colab": {
     "base_uri": "https://localhost:8080/",
     "height": 35
    },
    "colab_type": "code",
    "id": "7NTzmXOwKqp8",
    "outputId": "65f9772f-1a75-4751-84fa-a6cee3c032b1"
   },
   "outputs": [],
   "source": [
    "print(identity_3[2][2])"
   ]
  },
  {
   "cell_type": "code",
   "execution_count": null,
   "metadata": {
    "colab": {},
    "colab_type": "code",
    "id": "eutbtw4XKsd0"
   },
   "outputs": [],
   "source": [
    "A = [1, 2]"
   ]
  },
  {
   "cell_type": "code",
   "execution_count": null,
   "metadata": {
    "colab": {},
    "colab_type": "code",
    "id": "prDRE12VK6Wt"
   },
   "outputs": [],
   "source": [
    "B = A"
   ]
  },
  {
   "cell_type": "code",
   "execution_count": null,
   "metadata": {
    "colab": {
     "base_uri": "https://localhost:8080/",
     "height": 35
    },
    "colab_type": "code",
    "id": "ARmetUuiK7hZ",
    "outputId": "3342a88a-33bb-4d75-8844-6fad99cb2040"
   },
   "outputs": [],
   "source": [
    "print(B)"
   ]
  },
  {
   "cell_type": "code",
   "execution_count": null,
   "metadata": {
    "colab": {},
    "colab_type": "code",
    "id": "C8N0K8KlK9M8"
   },
   "outputs": [],
   "source": [
    "A[0] = A[0] + A[1]"
   ]
  },
  {
   "cell_type": "code",
   "execution_count": null,
   "metadata": {
    "colab": {
     "base_uri": "https://localhost:8080/",
     "height": 35
    },
    "colab_type": "code",
    "id": "kJt33znALCpE",
    "outputId": "3eb792e3-8b36-4724-fecf-96c4612e99df"
   },
   "outputs": [],
   "source": [
    "print(A)"
   ]
  },
  {
   "cell_type": "code",
   "execution_count": null,
   "metadata": {
    "colab": {
     "base_uri": "https://localhost:8080/",
     "height": 35
    },
    "colab_type": "code",
    "id": "l_O2qJtwLDZq",
    "outputId": "4325d959-5ef2-476f-80ec-78c83d0a4f05"
   },
   "outputs": [],
   "source": [
    "print(B)"
   ]
  },
  {
   "cell_type": "code",
   "execution_count": null,
   "metadata": {
    "colab": {},
    "colab_type": "code",
    "id": "Ngunj3jtLEv0"
   },
   "outputs": [],
   "source": [
    "A = [1, 2]"
   ]
  },
  {
   "cell_type": "code",
   "execution_count": null,
   "metadata": {
    "colab": {},
    "colab_type": "code",
    "id": "mROzmMJgLXrn"
   },
   "outputs": [],
   "source": [
    "B = [item for item in A]"
   ]
  },
  {
   "cell_type": "code",
   "execution_count": null,
   "metadata": {
    "colab": {
     "base_uri": "https://localhost:8080/",
     "height": 35
    },
    "colab_type": "code",
    "id": "6NlLnK1XLiyu",
    "outputId": "30bafcb5-8c6c-4cb2-e504-340405cea3ac"
   },
   "outputs": [],
   "source": [
    "print(B)"
   ]
  },
  {
   "cell_type": "code",
   "execution_count": null,
   "metadata": {
    "colab": {},
    "colab_type": "code",
    "id": "PbZtWubDLjgK"
   },
   "outputs": [],
   "source": [
    "A[0] = A[0] + A[1]"
   ]
  },
  {
   "cell_type": "code",
   "execution_count": null,
   "metadata": {
    "colab": {
     "base_uri": "https://localhost:8080/",
     "height": 35
    },
    "colab_type": "code",
    "id": "o_fIxWZ4Lk_w",
    "outputId": "756d7517-016c-42f4-d2f5-f393c9c5af42"
   },
   "outputs": [],
   "source": [
    "print(A)"
   ]
  },
  {
   "cell_type": "code",
   "execution_count": null,
   "metadata": {
    "colab": {
     "base_uri": "https://localhost:8080/",
     "height": 35
    },
    "colab_type": "code",
    "id": "QrKvnxdtLlls",
    "outputId": "b28b9b65-8854-4dc2-ffe2-34bbfc09693a"
   },
   "outputs": [],
   "source": [
    "print(B)"
   ]
  },
  {
   "cell_type": "markdown",
   "metadata": {
    "colab_type": "text",
    "id": "cmJis39bLvNn"
   },
   "source": [
    "# Exercise for Lists\n",
    "\n",
    "Given the following square matrix $A$\n",
    "$$A =  \\begin{pmatrix} 1 & 1 \\\\ 1 & 0  \\end{pmatrix}$$\n",
    "compute the matrix $A^n$ obtained by multiplying $A$ to itself $n$ times.\n",
    " \n",
    "Can you comment on the left-top value in $A^n$ (what does this remind you of?)"
   ]
  },
  {
   "cell_type": "code",
   "execution_count": null,
   "metadata": {
    "colab": {},
    "colab_type": "code",
    "id": "yfKUGqMNLmcn"
   },
   "outputs": [],
   "source": [
    "def square_matrix_power(A, n):\n",
    "    output = A\n",
    "    temp = A\n",
    "    for i in range(n - 1):\n",
    "        # output = A * output\n",
    "        # -> output = A * temp\n",
    "        #    temp = output\n",
    "        output[0][0] = A[0][0] * temp[0][0] + A[0][1] * temp[1][0]\n",
    "        output[0][1] = A[0][0] * temp[0][1] + A[0][1] * temp[1][1]\n",
    "        output[1][0] = A[1][0] * temp[0][0] + A[1][1] * temp[1][0]\n",
    "        output[1][1] = A[1][0] * temp[0][1] + A[1][1] * temp[1][1]\n",
    "        temp = output\n",
    "    return output"
   ]
  },
  {
   "cell_type": "code",
   "execution_count": null,
   "metadata": {
    "colab": {},
    "colab_type": "code",
    "id": "1gCv_QnCNoEv"
   },
   "outputs": [],
   "source": [
    "A = [\n",
    "     [1, 1], \n",
    "     [1, 0]\n",
    "]"
   ]
  },
  {
   "cell_type": "code",
   "execution_count": null,
   "metadata": {
    "colab": {
     "base_uri": "https://localhost:8080/",
     "height": 35
    },
    "colab_type": "code",
    "id": "1WSp8kFJNrMG",
    "outputId": "98489603-2031-4855-8a9b-aa3f18dd0a09"
   },
   "outputs": [],
   "source": [
    "print(square_matrix_power(A, 2))"
   ]
  },
  {
   "cell_type": "code",
   "execution_count": null,
   "metadata": {
    "colab": {},
    "colab_type": "code",
    "id": "DF4JZ9NbOXai"
   },
   "outputs": [],
   "source": [
    "def square_matrix_power(A, n):\n",
    "    output = [item[:] for item in A]\n",
    "    temp = [item[:] for item in A]\n",
    "    for i in range(n - 1):\n",
    "        # output = A * output\n",
    "        # -> output = A * temp\n",
    "        #    temp = output\n",
    "        output[0][0] = A[0][0] * temp[0][0] + A[0][1] * temp[1][0]\n",
    "        output[0][1] = A[0][0] * temp[0][1] + A[0][1] * temp[1][1]\n",
    "        output[1][0] = A[1][0] * temp[0][0] + A[1][1] * temp[1][0]\n",
    "        output[1][1] = A[1][0] * temp[0][1] + A[1][1] * temp[1][1]\n",
    "        temp = [item[:] for item in output]\n",
    "    return output"
   ]
  },
  {
   "cell_type": "code",
   "execution_count": null,
   "metadata": {
    "colab": {},
    "colab_type": "code",
    "id": "AY5Tj-w0PMLQ"
   },
   "outputs": [],
   "source": [
    "A = [\n",
    "     [1, 1], \n",
    "     [1, 0]\n",
    "]"
   ]
  },
  {
   "cell_type": "code",
   "execution_count": null,
   "metadata": {
    "colab": {
     "base_uri": "https://localhost:8080/",
     "height": 35
    },
    "colab_type": "code",
    "id": "IUJhgUDbPGuR",
    "outputId": "154d47b7-7aeb-4362-8fda-c3f7d94bf134"
   },
   "outputs": [],
   "source": [
    "print(square_matrix_power(A, 2))"
   ]
  },
  {
   "cell_type": "code",
   "execution_count": null,
   "metadata": {
    "colab": {
     "base_uri": "https://localhost:8080/",
     "height": 201
    },
    "colab_type": "code",
    "id": "2PLmw7oOPKDc",
    "outputId": "6e7724ba-1bad-4066-813f-47455ff4dd99"
   },
   "outputs": [],
   "source": [
    "for n in range(10):\n",
    "    output = square_matrix_power(A, n)\n",
    "    print(n, output[0][0])"
   ]
  },
  {
   "cell_type": "markdown",
   "metadata": {
    "colab_type": "text",
    "id": "V4bsIvOxSRJE"
   },
   "source": [
    "# Tuples and Sets"
   ]
  },
  {
   "cell_type": "code",
   "execution_count": null,
   "metadata": {
    "colab": {},
    "colab_type": "code",
    "id": "_DJblfyJPhY1"
   },
   "outputs": [],
   "source": [
    "bmi_categories = (\"Underweight\", \"Normal\", \"Overweight\", \"Very overweight\")"
   ]
  },
  {
   "cell_type": "code",
   "execution_count": null,
   "metadata": {
    "colab": {
     "base_uri": "https://localhost:8080/",
     "height": 35
    },
    "colab_type": "code",
    "id": "8CXBKymkSktX",
    "outputId": "ddfaa8cd-0e9a-4ca2-8965-6fac7c2755c0"
   },
   "outputs": [],
   "source": [
    "print(type(bmi_categories))"
   ]
  },
  {
   "cell_type": "code",
   "execution_count": null,
   "metadata": {
    "colab": {
     "base_uri": "https://localhost:8080/",
     "height": 35
    },
    "colab_type": "code",
    "id": "PSZ4cleeSnNq",
    "outputId": "91ceab10-d955-4199-f498-956b170eb715"
   },
   "outputs": [],
   "source": [
    "print(bmi_categories[-1])"
   ]
  },
  {
   "cell_type": "code",
   "execution_count": null,
   "metadata": {
    "colab": {
     "base_uri": "https://localhost:8080/",
     "height": 35
    },
    "colab_type": "code",
    "id": "Atj3VM1RSs_Z",
    "outputId": "5c96aca3-9c1e-4e21-d0d5-a9416b5c19a4"
   },
   "outputs": [],
   "source": [
    "print(bmi_categories[0:2])"
   ]
  },
  {
   "cell_type": "code",
   "execution_count": null,
   "metadata": {
    "colab": {
     "base_uri": "https://localhost:8080/",
     "height": 35
    },
    "colab_type": "code",
    "id": "KhqmARH5S3p4",
    "outputId": "9a3acd93-b935-4e9d-a463-d2d61046507b"
   },
   "outputs": [],
   "source": [
    "bmi_categories.index(\"Normal\")"
   ]
  },
  {
   "cell_type": "code",
   "execution_count": null,
   "metadata": {
    "colab": {
     "base_uri": "https://localhost:8080/",
     "height": 191
    },
    "colab_type": "code",
    "id": "ThQzsWyRTEvp",
    "outputId": "cd00781f-09e1-42d8-fdb2-94b02bc5adab"
   },
   "outputs": [],
   "source": [
    "bmi_categories.index(\"Very underweight\")"
   ]
  },
  {
   "cell_type": "code",
   "execution_count": null,
   "metadata": {
    "colab": {
     "base_uri": "https://localhost:8080/",
     "height": 35
    },
    "colab_type": "code",
    "id": "VXt7mx4ATMgp",
    "outputId": "8f842d51-fca5-433a-b62b-3e000ea47f55"
   },
   "outputs": [],
   "source": [
    "print(\"Underweight\" in bmi_categories)"
   ]
  },
  {
   "cell_type": "code",
   "execution_count": null,
   "metadata": {
    "colab": {
     "base_uri": "https://localhost:8080/",
     "height": 191
    },
    "colab_type": "code",
    "id": "ku1Ohc4RTVAe",
    "outputId": "7870dd39-1063-4952-c16b-c80a1293d25c"
   },
   "outputs": [],
   "source": [
    "bmi_categories[3] = \"VERY overweight\""
   ]
  },
  {
   "cell_type": "code",
   "execution_count": null,
   "metadata": {
    "colab": {
     "base_uri": "https://localhost:8080/",
     "height": 35
    },
    "colab_type": "code",
    "id": "EGiN0aGOTiTW",
    "outputId": "57ae5d11-d68f-41db-a526-3eaeb87519b6"
   },
   "outputs": [],
   "source": [
    "%%timeit -n1 -r10\n",
    "for i in range(1000000):\n",
    "    my_list = [\"Tuples\", \"are\", \"faster\", \"than\", \"lists\"]"
   ]
  },
  {
   "cell_type": "markdown",
   "metadata": {},
   "source": [
    "## timeit — Measure execution time of small code snippets"
   ]
  },
  {
   "cell_type": "code",
   "execution_count": null,
   "metadata": {
    "colab": {},
    "colab_type": "code",
    "id": "UvYyyEkAUc1M"
   },
   "outputs": [],
   "source": [
    "%%timeit?"
   ]
  },
  {
   "cell_type": "code",
   "execution_count": null,
   "metadata": {
    "colab": {
     "base_uri": "https://localhost:8080/",
     "height": 35
    },
    "colab_type": "code",
    "id": "i23Msh0bUiAM",
    "outputId": "78a50f61-3aa1-4ae1-d999-3229a707d2d5"
   },
   "outputs": [],
   "source": [
    "%%timeit -n1 -r10\n",
    "for i in range(1000000):\n",
    "    my_tuple = (\"Tuples\", \"are\", \"faster\", \"than\", \"lists\")"
   ]
  },
  {
   "cell_type": "code",
   "execution_count": null,
   "metadata": {
    "colab": {},
    "colab_type": "code",
    "id": "kv9wQVEWUtZ1"
   },
   "outputs": [],
   "source": [
    "batsmen = {\"A\", \"B\", \"C\", \"D\"}"
   ]
  },
  {
   "cell_type": "code",
   "execution_count": null,
   "metadata": {
    "colab": {
     "base_uri": "https://localhost:8080/",
     "height": 35
    },
    "colab_type": "code",
    "id": "Bca5ZURIVLOi",
    "outputId": "d4c5f43d-1ae9-4d4f-a8d0-20f71c57b921"
   },
   "outputs": [],
   "source": [
    "print(type(batsmen))"
   ]
  },
  {
   "cell_type": "code",
   "execution_count": null,
   "metadata": {
    "colab": {
     "base_uri": "https://localhost:8080/",
     "height": 35
    },
    "colab_type": "code",
    "id": "gbdMW5UGVNfX",
    "outputId": "a2858790-43cd-4a6e-e290-f29dcf1327cc"
   },
   "outputs": [],
   "source": [
    "print(\"B\" in batsmen)"
   ]
  },
  {
   "cell_type": "code",
   "execution_count": null,
   "metadata": {
    "colab": {
     "base_uri": "https://localhost:8080/",
     "height": 191
    },
    "colab_type": "code",
    "id": "gX-GPXBvVSV8",
    "outputId": "a418804d-7da7-49be-bf3a-193c9240f997"
   },
   "outputs": [],
   "source": [
    "batsmen.index(\"C\")"
   ]
  },
  {
   "cell_type": "code",
   "execution_count": null,
   "metadata": {
    "colab": {},
    "colab_type": "code",
    "id": "iPRzKwxpVZe7"
   },
   "outputs": [],
   "source": [
    "bowlers = {\"X\", \"Y\", \"Z\", \"D\"}"
   ]
  },
  {
   "cell_type": "code",
   "execution_count": null,
   "metadata": {
    "colab": {
     "base_uri": "https://localhost:8080/",
     "height": 35
    },
    "colab_type": "code",
    "id": "kDGi71-JVjXg",
    "outputId": "0be6f46d-f5a6-45df-bcc3-787b007ef567"
   },
   "outputs": [],
   "source": [
    "print(type(bowlers))"
   ]
  },
  {
   "cell_type": "code",
   "execution_count": null,
   "metadata": {
    "colab": {},
    "colab_type": "code",
    "id": "JFz_RE7LVknF"
   },
   "outputs": [],
   "source": [
    "all_rounders = batsmen.intersection(bowlers)"
   ]
  },
  {
   "cell_type": "code",
   "execution_count": null,
   "metadata": {
    "colab": {
     "base_uri": "https://localhost:8080/",
     "height": 35
    },
    "colab_type": "code",
    "id": "WsEVdemzVoQL",
    "outputId": "4cef10ce-6ba9-4b5d-d8ca-75dd4c0e5f7a"
   },
   "outputs": [],
   "source": [
    "print(type(all_rounders))"
   ]
  },
  {
   "cell_type": "code",
   "execution_count": null,
   "metadata": {
    "colab": {
     "base_uri": "https://localhost:8080/",
     "height": 35
    },
    "colab_type": "code",
    "id": "kplrKHlVVpzW",
    "outputId": "8edc68d4-7716-4cd6-b945-26c28803e631"
   },
   "outputs": [],
   "source": [
    "print(all_rounders)"
   ]
  },
  {
   "cell_type": "code",
   "execution_count": null,
   "metadata": {
    "colab": {},
    "colab_type": "code",
    "id": "ADkWKfC1Vrip"
   },
   "outputs": [],
   "source": [
    "players = batsmen.union(bowlers)"
   ]
  },
  {
   "cell_type": "code",
   "execution_count": null,
   "metadata": {
    "colab": {
     "base_uri": "https://localhost:8080/",
     "height": 35
    },
    "colab_type": "code",
    "id": "MSwKk3G2V2UJ",
    "outputId": "4e2793b6-9291-4c99-986a-ae5d3b620642"
   },
   "outputs": [],
   "source": [
    "print(type(players))"
   ]
  },
  {
   "cell_type": "code",
   "execution_count": null,
   "metadata": {
    "colab": {
     "base_uri": "https://localhost:8080/",
     "height": 35
    },
    "colab_type": "code",
    "id": "YxaOIZETV3Y5",
    "outputId": "67b429be-2a1f-4b96-8e4a-7f5e80057854"
   },
   "outputs": [],
   "source": [
    "print(players)"
   ]
  },
  {
   "cell_type": "code",
   "execution_count": null,
   "metadata": {
    "colab": {},
    "colab_type": "code",
    "id": "25ZGq6hLV4T4"
   },
   "outputs": [],
   "source": [
    "bowlers = {\"I\", \"B\", \"R\", \"D\"}"
   ]
  },
  {
   "cell_type": "code",
   "execution_count": null,
   "metadata": {
    "colab": {
     "base_uri": "https://localhost:8080/",
     "height": 35
    },
    "colab_type": "code",
    "id": "3f4SpXn_V-YI",
    "outputId": "e2e7ba5b-79d2-44e2-89ca-eaf917a466fe"
   },
   "outputs": [],
   "source": [
    "print(bowlers)"
   ]
  },
  {
   "cell_type": "code",
   "execution_count": null,
   "metadata": {
    "colab": {
     "base_uri": "https://localhost:8080/",
     "height": 35
    },
    "colab_type": "code",
    "id": "dIDmR9x7V_vC",
    "outputId": "d29a450c-b0be-4424-f78a-fd3e979a7dbb"
   },
   "outputs": [],
   "source": [
    "%%timeit -n1 -r10\n",
    "my_list = list(range(10000))\n",
    "for i in range(10000):\n",
    "    b = 1947 in my_list"
   ]
  },
  {
   "cell_type": "code",
   "execution_count": null,
   "metadata": {
    "colab": {
     "base_uri": "https://localhost:8080/",
     "height": 35
    },
    "colab_type": "code",
    "id": "Li-V91Y1WkEf",
    "outputId": "33cfa67d-a632-4143-bb79-f9be899d8183"
   },
   "outputs": [],
   "source": [
    "%%timeit -n1 -r10\n",
    "my_tuple = tuple(range(10000))\n",
    "for i in range(10000):\n",
    "    b = 1947 in my_tuple"
   ]
  },
  {
   "cell_type": "code",
   "execution_count": null,
   "metadata": {
    "colab": {
     "base_uri": "https://localhost:8080/",
     "height": 35
    },
    "colab_type": "code",
    "id": "0Co9MdoAWpHI",
    "outputId": "cdcf3e71-06a0-449c-d348-d0f0ba481e98"
   },
   "outputs": [],
   "source": [
    "%%timeit -n1 -r10\n",
    "my_set = set(range(10000))\n",
    "for i in range(10000):\n",
    "    b = 1947 in my_set"
   ]
  },
  {
   "cell_type": "markdown",
   "metadata": {
    "colab_type": "text",
    "id": "sTDgFpQCa9xa"
   },
   "source": [
    "# Dictionary"
   ]
  },
  {
   "cell_type": "code",
   "execution_count": null,
   "metadata": {
    "colab": {},
    "colab_type": "code",
    "id": "ufnuvOHzaunz"
   },
   "outputs": [],
   "source": [
    "bmi_dataset = [\n",
    "               [\"K\", 75, 1.73, False],\n",
    "               [\"B\", 120, 1.78, True]\n",
    "]"
   ]
  },
  {
   "cell_type": "code",
   "execution_count": null,
   "metadata": {
    "colab": {},
    "colab_type": "code",
    "id": "nxRU93n1bCx7"
   },
   "outputs": [],
   "source": [
    "bmi_record = {\n",
    "    \"name\": \"K\",\n",
    "    \"weight\": 75,\n",
    "    \"height\": 1.73,\n",
    "    \"is_overweight\": False\n",
    "}"
   ]
  },
  {
   "cell_type": "code",
   "execution_count": null,
   "metadata": {
    "colab": {
     "base_uri": "https://localhost:8080/",
     "height": 35
    },
    "colab_type": "code",
    "id": "2RNmOCEAb43J",
    "outputId": "3f167663-3c2f-4194-a078-c85acb370dc3"
   },
   "outputs": [],
   "source": [
    "print(type(bmi_record))"
   ]
  },
  {
   "cell_type": "code",
   "execution_count": null,
   "metadata": {
    "colab": {
     "base_uri": "https://localhost:8080/",
     "height": 35
    },
    "colab_type": "code",
    "id": "q3knrRTfb6LK",
    "outputId": "9b6217a5-8c0a-4168-9a35-1547e901f09e"
   },
   "outputs": [],
   "source": [
    "bmi_record[\"name\"]"
   ]
  },
  {
   "cell_type": "code",
   "execution_count": null,
   "metadata": {
    "colab": {
     "base_uri": "https://localhost:8080/",
     "height": 191
    },
    "colab_type": "code",
    "id": "63W3rfkzcAeZ",
    "outputId": "0a791a3b-83be-4941-a083-9942b3bee1a8"
   },
   "outputs": [],
   "source": [
    "bmi_record[\"email\"]"
   ]
  },
  {
   "cell_type": "code",
   "execution_count": null,
   "metadata": {
    "colab": {},
    "colab_type": "code",
    "id": "fpW4ztt8cFDW"
   },
   "outputs": [],
   "source": [
    "bmi_record[\"email\"] = \"k@idontknow.com\""
   ]
  },
  {
   "cell_type": "code",
   "execution_count": null,
   "metadata": {
    "colab": {
     "base_uri": "https://localhost:8080/",
     "height": 55
    },
    "colab_type": "code",
    "id": "vpfoArSdcKt6",
    "outputId": "45506530-470f-40b4-b88c-46d7d9eeaaa5"
   },
   "outputs": [],
   "source": [
    "print(bmi_record)"
   ]
  },
  {
   "cell_type": "code",
   "execution_count": null,
   "metadata": {
    "colab": {
     "base_uri": "https://localhost:8080/",
     "height": 109
    },
    "colab_type": "code",
    "id": "HnbthNJDcMZB",
    "outputId": "837da8ab-9b05-4d3d-c554-489305f281e5"
   },
   "outputs": [],
   "source": [
    "for key in bmi_record:\n",
    "    print(key, \":\", bmi_record[key])"
   ]
  },
  {
   "cell_type": "code",
   "execution_count": null,
   "metadata": {
    "colab": {
     "base_uri": "https://localhost:8080/",
     "height": 35
    },
    "colab_type": "code",
    "id": "UkbDd6yQcaqQ",
    "outputId": "c0d9e18e-1472-45fd-8956-391bbd53a495"
   },
   "outputs": [],
   "source": [
    "print(bmi_record.keys())"
   ]
  },
  {
   "cell_type": "code",
   "execution_count": null,
   "metadata": {
    "colab": {},
    "colab_type": "code",
    "id": "SoWv6sKncoTl"
   },
   "outputs": [],
   "source": [
    "bmi_record_1 = {\n",
    "    \"name\": \"B\",\n",
    "    \"weight\": 125,\n",
    "    \"height\": 1.75,\n",
    "    \"is_overweight\": True,\n",
    "    \"email\": \"b@foodtruck.com\"\n",
    "}"
   ]
  },
  {
   "cell_type": "code",
   "execution_count": null,
   "metadata": {
    "colab": {},
    "colab_type": "code",
    "id": "UXhGexkfc9vu"
   },
   "outputs": [],
   "source": [
    "bmi_dataset = [bmi_record, bmi_record_1]"
   ]
  },
  {
   "cell_type": "code",
   "execution_count": null,
   "metadata": {
    "colab": {
     "base_uri": "https://localhost:8080/",
     "height": 35
    },
    "colab_type": "code",
    "id": "Fnv5saMIdBgt",
    "outputId": "8ae4ca82-c217-41b0-c208-d98a5c1d13fc"
   },
   "outputs": [],
   "source": [
    "print(bmi_dataset[0][\"is_overweight\"])"
   ]
  },
  {
   "cell_type": "markdown",
   "metadata": {
    "colab_type": "text",
    "id": "0jOZYFBKl1A1"
   },
   "source": [
    "# Files"
   ]
  },
  {
   "cell_type": "code",
   "execution_count": null,
   "metadata": {
    "colab": {},
    "colab_type": "code",
    "id": "_P-KqqtRltoe"
   },
   "outputs": [],
   "source": [
    "f = open(\"sample-input-file\", \"r\")"
   ]
  },
  {
   "cell_type": "code",
   "execution_count": null,
   "metadata": {
    "colab": {
     "base_uri": "https://localhost:8080/",
     "height": 35
    },
    "colab_type": "code",
    "id": "Yy9n5PYumyrF",
    "outputId": "fc86de43-600d-41ad-cfe8-36b931dd1ca8"
   },
   "outputs": [],
   "source": [
    "print(f)"
   ]
  },
  {
   "cell_type": "code",
   "execution_count": null,
   "metadata": {
    "colab": {},
    "colab_type": "code",
    "id": "Y1JoHERmmzqX"
   },
   "outputs": [],
   "source": [
    "output = f.read()"
   ]
  },
  {
   "cell_type": "code",
   "execution_count": null,
   "metadata": {
    "colab": {
     "base_uri": "https://localhost:8080/",
     "height": 477
    },
    "colab_type": "code",
    "id": "ig5eOCYnm6fO",
    "outputId": "0be4dcd2-6e61-41d5-cf3a-b3b9257aa4fc"
   },
   "outputs": [],
   "source": [
    "print(output)"
   ]
  },
  {
   "cell_type": "code",
   "execution_count": null,
   "metadata": {
    "colab": {
     "base_uri": "https://localhost:8080/",
     "height": 54
    },
    "colab_type": "code",
    "id": "_ddGl1xmm7VH",
    "outputId": "ca7902df-2bb7-42da-d107-16ad6b05cc3b"
   },
   "outputs": [],
   "source": [
    "f = open(\"sample-input-file\", \"r\")\n",
    "out_line = f.readline()\n",
    "print(out_line)"
   ]
  },
  {
   "cell_type": "code",
   "execution_count": null,
   "metadata": {
    "colab": {
     "base_uri": "https://localhost:8080/",
     "height": 54
    },
    "colab_type": "code",
    "id": "5jLCietmnHW3",
    "outputId": "0b8d7b92-1baa-4f07-9f1e-8062181edb1d"
   },
   "outputs": [],
   "source": [
    "out_line = f.readline()\n",
    "print(out_line)"
   ]
  },
  {
   "cell_type": "code",
   "execution_count": null,
   "metadata": {
    "colab": {
     "base_uri": "https://localhost:8080/",
     "height": 54
    },
    "colab_type": "code",
    "id": "XZlfBpNWnKZr",
    "outputId": "63d79fa0-bc4a-4a3d-ac85-2687cbf4fc99"
   },
   "outputs": [],
   "source": [
    "out_line = f.readline()\n",
    "print(out_line)"
   ]
  },
  {
   "cell_type": "code",
   "execution_count": null,
   "metadata": {
    "colab": {
     "base_uri": "https://localhost:8080/",
     "height": 55
    },
    "colab_type": "code",
    "id": "4uHX46O7nMEC",
    "outputId": "aeaf5b4f-0e2b-42d1-a19d-1a414d3bb5c1"
   },
   "outputs": [],
   "source": [
    "f = open(\"sample-input-file\", \"r\")\n",
    "out_lines = f.readlines()\n",
    "print(out_lines)"
   ]
  },
  {
   "cell_type": "code",
   "execution_count": null,
   "metadata": {
    "colab": {},
    "colab_type": "code",
    "id": "srMGVS67nS9g"
   },
   "outputs": [],
   "source": [
    "f.close()"
   ]
  },
  {
   "cell_type": "code",
   "execution_count": null,
   "metadata": {
    "colab": {
     "base_uri": "https://localhost:8080/",
     "height": 191
    },
    "colab_type": "code",
    "id": "n3ecHqLDncHw",
    "outputId": "cc6e0e6f-8e05-4644-afa1-69f053bad4e0"
   },
   "outputs": [],
   "source": [
    "out_line = f.readline()"
   ]
  },
  {
   "cell_type": "code",
   "execution_count": null,
   "metadata": {
    "colab": {
     "base_uri": "https://localhost:8080/",
     "height": 55
    },
    "colab_type": "code",
    "id": "RpbQQl2XnegA",
    "outputId": "c7c4ca44-2da1-4d36-a3fd-03f46c7cd8d0"
   },
   "outputs": [],
   "source": [
    "with open(\"sample-input-file\", \"r\") as f:\n",
    "    out_lines = f.readlines()\n",
    "    print(out_lines) "
   ]
  },
  {
   "cell_type": "code",
   "execution_count": null,
   "metadata": {
    "colab": {
     "base_uri": "https://localhost:8080/",
     "height": 191
    },
    "colab_type": "code",
    "id": "raNR8TPMqXtS",
    "outputId": "166a5c9c-393e-4152-e100-cbece9d5113d"
   },
   "outputs": [],
   "source": [
    "f.readlines()"
   ]
  },
  {
   "cell_type": "code",
   "execution_count": null,
   "metadata": {
    "colab": {
     "base_uri": "https://localhost:8080/",
     "height": 55
    },
    "colab_type": "code",
    "id": "brA2ghgfqawf",
    "outputId": "d85758e1-871b-4f35-ede6-48e78a301dd5"
   },
   "outputs": [],
   "source": [
    "f = open(\"sample-input-file\", \"r\")\n",
    "out_lines = f.readlines()\n",
    "print(out_lines)\n",
    "f.close()"
   ]
  },
  {
   "cell_type": "code",
   "execution_count": null,
   "metadata": {
    "colab": {
     "base_uri": "https://localhost:8080/",
     "height": 497
    },
    "colab_type": "code",
    "id": "yfybbwLuq8Ss",
    "outputId": "6f9d186a-12e0-4837-f00a-e3fbb99081aa"
   },
   "outputs": [],
   "source": [
    "i = 0\n",
    "for line in out_lines:\n",
    "    print(i, '\\t', line.strip())\n",
    "    i += 1"
   ]
  },
  {
   "cell_type": "code",
   "execution_count": null,
   "metadata": {
    "colab": {},
    "colab_type": "code",
    "id": "01zYZPzXrDvo"
   },
   "outputs": [],
   "source": [
    "f_out = open(\"out.txt\", \"w\")"
   ]
  },
  {
   "cell_type": "code",
   "execution_count": null,
   "metadata": {
    "colab": {},
    "colab_type": "code",
    "id": "hZCTo6I-reJL"
   },
   "outputs": [],
   "source": [
    "f_out.writelines(out_lines[1])"
   ]
  },
  {
   "cell_type": "code",
   "execution_count": null,
   "metadata": {
    "colab": {},
    "colab_type": "code",
    "id": "L_PTj0Srrjq-"
   },
   "outputs": [],
   "source": [
    "f_out.close()"
   ]
  },
  {
   "cell_type": "code",
   "execution_count": null,
   "metadata": {
    "colab": {},
    "colab_type": "code",
    "id": "hVBBnZXBrv3Y"
   },
   "outputs": [],
   "source": [
    "fav_lines = [2, 4]"
   ]
  },
  {
   "cell_type": "code",
   "execution_count": null,
   "metadata": {
    "colab": {},
    "colab_type": "code",
    "id": "t8owFzztr35X"
   },
   "outputs": [],
   "source": [
    "with open(\"out.txt\", \"w\") as f_out:\n",
    "    for fav_line in fav_lines:\n",
    "        f_out.writelines(out_lines[fav_line])"
   ]
  }
 ],
 "metadata": {
  "colab": {
   "collapsed_sections": [],
   "name": "FDS_W05.ipynb",
   "provenance": []
  },
  "kernelspec": {
   "display_name": "conda_python3",
   "language": "python",
   "name": "conda_python3"
  },
  "language_info": {
   "codemirror_mode": {
    "name": "ipython",
    "version": 3
   },
   "file_extension": ".py",
   "mimetype": "text/x-python",
   "name": "python",
   "nbconvert_exporter": "python",
   "pygments_lexer": "ipython3",
   "version": "3.6.5"
  }
 },
 "nbformat": 4,
 "nbformat_minor": 4
}
